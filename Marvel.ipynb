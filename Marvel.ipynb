{
 "cells": [
  {
   "cell_type": "code",
   "execution_count": null,
   "metadata": {},
   "outputs": [],
   "source": [
    "# Marvel\n",
    "import hashlib\n",
    "import pprint\n",
    "import tokens\n",
    "\n",
    "url = 'http://gateway.marvel.com/v1/public/characters'\n",
    "HASH = '1' + tokens.MARVEL_PRIVATE_KEY + tokens.MARVEL_PUBLIC_KEY\n",
    "HASH = hashlib.md5(HASH.encode(\"utf8\")).hexdigest()\n",
    "r = session.get(url, params={'ts': 1, 'apikey': tokens.MARVEL_PUBLIC_KEY, 'hash': HASH})\n",
    "pprint.pprint(r.json())"
   ]
  },
  {
   "cell_type": "code",
   "execution_count": null,
   "metadata": {},
   "outputs": [],
   "source": [
    "# Marvel\n",
    "import hashlib\n",
    "import pprint\n",
    "\n",
    "url = 'http://gateway.marvel.com/v1/public/characters'\n",
    "HASH = '1' + tokens.MARVEL_PRIVATE_KEY + tokens.MARVEL_PUBLIC_KEY\n",
    "HASH = hashlib.md5(HASH.encode(\"utf8\")).hexdigest()\n",
    "r = session.get(\n",
    "    url, params={'ts': 1, 'apikey': tokens.MARVEL_PUBLIC_KEY, 'hash': HASH, 'name': 'Spider-Man'}\n",
    ")\n",
    "pprint.pprint(r.json())"
   ]
  }
 ],
 "metadata": {
  "kernelspec": {
   "display_name": "Python 3",
   "language": "python",
   "name": "python3"
  },
  "language_info": {
   "codemirror_mode": {
    "name": "ipython",
    "version": 3
   },
   "file_extension": ".py",
   "mimetype": "text/x-python",
   "name": "python",
   "nbconvert_exporter": "python",
   "pygments_lexer": "ipython3",
   "version": "3.6.4"
  }
 },
 "nbformat": 4,
 "nbformat_minor": 2
}
