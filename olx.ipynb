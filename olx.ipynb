{
 "cells": [
  {
   "cell_type": "markdown",
   "metadata": {},
   "source": [
    "# OLX"
   ]
  },
  {
   "cell_type": "code",
   "execution_count": null,
   "metadata": {},
   "outputs": [],
   "source": [
    "import requests_html\n",
    "session = requests_html.HTMLSession()"
   ]
  },
  {
   "cell_type": "code",
   "execution_count": null,
   "metadata": {},
   "outputs": [],
   "source": [
    "# OLX\n",
    "url = 'http://pe.olx.com.br/videogames'\n",
    "r = session.get(url)\n",
    "links = r.html.xpath(\"//a[contains(@class, 'OLXad-list-link')]\")\n",
    "for link in links:\n",
    "    url_detalhes = link.attrs['href']\n",
    "    print(url_detalhes)\n",
    "    r_detalhes = session.get(url_detalhes)\n",
    "    titulo = r_detalhes.html.xpath(\"//*[@id='ad_title']/text()\")[0].strip()\n",
    "    try:\n",
    "        preco = r_detalhes.html.xpath(\"//*[@class='OLXad-price']/text()\")[0].strip()\n",
    "    except:\n",
    "        preco = ''\n",
    "    print(titulo, preco)"
   ]
  },
  {
   "cell_type": "code",
   "execution_count": null,
   "metadata": {},
   "outputs": [],
   "source": []
  }
 ],
 "metadata": {
  "kernelspec": {
   "display_name": "Python 3",
   "language": "python",
   "name": "python3"
  },
  "language_info": {
   "codemirror_mode": {
    "name": "ipython",
    "version": 3
   },
   "file_extension": ".py",
   "mimetype": "text/x-python",
   "name": "python",
   "nbconvert_exporter": "python",
   "pygments_lexer": "ipython3",
   "version": "3.6.4"
  }
 },
 "nbformat": 4,
 "nbformat_minor": 2
}
