{
 "cells": [
  {
   "cell_type": "markdown",
   "metadata": {},
   "source": [
    "# Uber"
   ]
  },
  {
   "cell_type": "code",
   "execution_count": null,
   "metadata": {},
   "outputs": [],
   "source": [
    "# Uber\n",
    "\n",
    "from uber_rides.session import Session\n",
    "from uber_rides.client import UberRidesClient\n",
    "\n",
    "UBER_TOKEN = '<UBER_TOKEN>'\n",
    "\n",
    "uber_session = Session(server_token=UBER_TOKEN)\n",
    "uber_client = UberRidesClient(uber_session)"
   ]
  },
  {
   "cell_type": "code",
   "execution_count": null,
   "metadata": {},
   "outputs": [],
   "source": [
    "response = uber_client.get_price_estimates(\n",
    "    start_latitude=-8.1277971, \n",
    "    start_longitude=-34.9046107,\n",
    "    end_latitude=-8.1176322,  \n",
    "    end_longitude=-34.9054008236179,\n",
    "    seat_count=2\n",
    ")\n",
    "estimate = response.json.get('prices')\n",
    "print (estimate)\n",
    "print (estimate[0]['display_name'], estimate[0]['estimate'])"
   ]
  },
  {
   "cell_type": "code",
   "execution_count": null,
   "metadata": {},
   "outputs": [],
   "source": []
  }
 ],
 "metadata": {
  "kernelspec": {
   "display_name": "Python 3",
   "language": "python",
   "name": "python3"
  },
  "language_info": {
   "codemirror_mode": {
    "name": "ipython",
    "version": 3
   },
   "file_extension": ".py",
   "mimetype": "text/x-python",
   "name": "python",
   "nbconvert_exporter": "python",
   "pygments_lexer": "ipython3",
   "version": "3.6.4"
  }
 },
 "nbformat": 4,
 "nbformat_minor": 2
}
