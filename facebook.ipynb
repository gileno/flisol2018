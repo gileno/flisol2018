{
 "cells": [
  {
   "cell_type": "markdown",
   "metadata": {},
   "source": [
    "# Facebook"
   ]
  },
  {
   "cell_type": "code",
   "execution_count": null,
   "metadata": {},
   "outputs": [],
   "source": [
    "import tokens\n",
    "from tapioca_facebook import Facebook\n",
    "\n",
    "api_facebook = Facebook(\n",
    "    client_id=tokens.FACEBOOK_CLIENT_ID, access_token=tokens.FACEBOOK_ACCESS_TOKEN\n",
    ")"
   ]
  },
  {
   "cell_type": "code",
   "execution_count": null,
   "metadata": {},
   "outputs": [],
   "source": [
    "likes = api_facebook.user_likes(id='me').get()\n",
    "for like in likes().data:\n",
    "    print(like) "
   ]
  },
  {
   "cell_type": "code",
   "execution_count": null,
   "metadata": {},
   "outputs": [],
   "source": [
    "likes().data['paging']"
   ]
  },
  {
   "cell_type": "code",
   "execution_count": null,
   "metadata": {},
   "outputs": [],
   "source": [
    "for like in likes().pages():\n",
    "    print(like().data)"
   ]
  },
  {
   "cell_type": "code",
   "execution_count": null,
   "metadata": {},
   "outputs": [],
   "source": [
    "feed = api_facebook.user_feed(id='me').get()\n",
    "for post in feed().pages():\n",
    "    print(post().data)"
   ]
  },
  {
   "cell_type": "code",
   "execution_count": null,
   "metadata": {},
   "outputs": [],
   "source": [
    "message = 'Palestrando sobre Web Crawlers com Python na FLISOL Palmares'\n",
    "user_feed = api_facebook.user_feed(id='me').post(data={'message': message})\n",
    "print(user_feed().data)"
   ]
  }
 ],
 "metadata": {
  "kernelspec": {
   "display_name": "Python 3",
   "language": "python",
   "name": "python3"
  },
  "language_info": {
   "codemirror_mode": {
    "name": "ipython",
    "version": 3
   },
   "file_extension": ".py",
   "mimetype": "text/x-python",
   "name": "python",
   "nbconvert_exporter": "python",
   "pygments_lexer": "ipython3",
   "version": "3.6.4"
  }
 },
 "nbformat": 4,
 "nbformat_minor": 2
}
