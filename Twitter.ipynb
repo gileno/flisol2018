{
 "cells": [
  {
   "cell_type": "code",
   "execution_count": null,
   "metadata": {},
   "outputs": [],
   "source": [
    "# Twitter\n",
    "import tokens\n",
    "from tapioca_twitter import Twitter\n",
    "api_twitter = Twitter(\n",
    "    api_key=tokens.TWITTER_API_KEY,\n",
    "    api_secret=tokens.TWITTER_API_SECRET,\n",
    "    access_token=tokens.TWITTER_ACCESS_TOKEN,\n",
    "    access_token_secret=tokens.TWITTER_ACCESS_SECRET\n",
    ")"
   ]
  },
  {
   "cell_type": "code",
   "execution_count": null,
   "metadata": {},
   "outputs": [],
   "source": [
    "resultado = api_twitter.statuses_home_timeline().get()\n",
    "for tweet in resultado().data:\n",
    "    print(tweet['text'])"
   ]
  },
  {
   "cell_type": "code",
   "execution_count": null,
   "metadata": {},
   "outputs": [],
   "source": [
    "status = 'Palestrando na #CPNatal sobre WebCrawlers e API com Python'\n",
    "statuses_update = api_twitter.statuses_update().post(params={'status': status})\n",
    "print(statuses_update().data)"
   ]
  }
 ],
 "metadata": {
  "kernelspec": {
   "display_name": "Python 3",
   "language": "python",
   "name": "python3"
  },
  "language_info": {
   "codemirror_mode": {
    "name": "ipython",
    "version": 3
   },
   "file_extension": ".py",
   "mimetype": "text/x-python",
   "name": "python",
   "nbconvert_exporter": "python",
   "pygments_lexer": "ipython3",
   "version": "3.6.4"
  }
 },
 "nbformat": 4,
 "nbformat_minor": 2
}
